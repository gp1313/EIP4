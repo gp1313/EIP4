{
 "cells": [
  {
   "cell_type": "code",
   "execution_count": null,
   "metadata": {
    "scrolled": true
   },
   "outputs": [],
   "source": [
    "import numpy as np\n",
    "import time, math\n",
    "from tqdm.notebook import tqdm\n",
    "\n",
    "import tensorflow as tf\n",
    "import tensorflow.contrib.eager as tfe"
   ]
  },
  {
   "cell_type": "code",
   "execution_count": null,
   "metadata": {},
   "outputs": [],
   "source": []
  },
  {
   "cell_type": "code",
   "execution_count": null,
   "metadata": {},
   "outputs": [],
   "source": []
  },
  {
   "cell_type": "code",
   "execution_count": 2,
   "metadata": {},
   "outputs": [],
   "source": [
    "tf.enable_eager_execution()"
   ]
  },
  {
   "cell_type": "code",
   "execution_count": 3,
   "metadata": {},
   "outputs": [],
   "source": [
    "BATCH_SIZE = 512\n",
    "MOMENTUM = 0.9\n",
    "LEARNING_RATE = 0.4\n",
    "WEIGHT_DECAY = 5e-4\n",
    "EPOCHS = 24"
   ]
  },
  {
   "cell_type": "code",
   "execution_count": 4,
   "metadata": {},
   "outputs": [],
   "source": [
    "def init_pytorch(shape, dtype=tf.float32, partition_info=None):\n",
    "    fan = np.prod(shape[:-1])\n",
    "    bound = 1 / math.sqrt(fan)\n",
    "    return tf.random.uniform(shape, minval=-bound, maxval=bound,\n",
    "                             dtype=dtype)"
   ]
  },
  {
   "cell_type": "code",
   "execution_count": 5,
   "metadata": {},
   "outputs": [],
   "source": [
    "class ConvBN(tf.keras.Model):\n",
    "    def __init__(self, c_out):\n",
    "        super().__init__()\n",
    "        self.conv = tf.keras.layers.Conv2D(filters=c_out,\n",
    "                                           kernel_size=3,\n",
    "                                           padding=\"SAME\",\n",
    "                                           kernel_initializer=init_pytorch,\n",
    "                                           use_bias=False)\n",
    "        self.bn = tf.keras.layers.BatchNormalization(momentum=0.9,\n",
    "                                                     epsilon=1e-5)\n",
    "        self.drop = tf.keras.layers.Dropout(0.05)\n",
    "        \n",
    "    def call(self, inputs):\n",
    "        return tf.nn.relu(self.bn(self.drop(self.conv(inputs))))\n",
    "    \n",
    "        "
   ]
  },
  {
   "cell_type": "code",
   "execution_count": 6,
   "metadata": {},
   "outputs": [],
   "source": [
    "class ResBlk(tf.keras.Model):\n",
    "    def __init__(self, c_out, pool, res=False):\n",
    "        super().__init__()\n",
    "        self.conv_bn = ConvBN(c_out)\n",
    "        self.pool = pool\n",
    "        self.res = res\n",
    "        if self.res:\n",
    "            self.res1 = ConvBN(c_out)\n",
    "            self.res2 = ConvBN(c_out)\n",
    "    \n",
    "    def call(self, inputs):\n",
    "        h = self.pool(self.conv_bn(inputs))\n",
    "        \n",
    "        if self.res:\n",
    "            h = h + self.res2(self.res1(h))\n",
    "        return h"
   ]
  },
  {
   "cell_type": "code",
   "execution_count": 7,
   "metadata": {},
   "outputs": [],
   "source": [
    "class DavidNet(tf.keras.Model):\n",
    "    def __init__(self, c=64, weight=0.125):\n",
    "        super().__init__()\n",
    "        pool = tf.keras.layers.MaxPool2D()\n",
    "        self.init_conv_bn = ConvBN(c)\n",
    "        self.blk1 = ResBlk(c*2, pool, res=True)\n",
    "        self.blk2 = ResBlk(c*4, pool)\n",
    "        self.blk3 = ResBlk(c*8, pool, res=True)\n",
    "        self.pool = tf.keras.layers.GlobalAvgPool2D()\n",
    "        self.linear = tf.keras.layers.Dense(10,\n",
    "                                            kernel_initializer=init_pytorch,\n",
    "                                            use_bias=False)\n",
    "        self.weight = weight\n",
    "    \n",
    "    def call(self, x, y):\n",
    "        h = self.pool(self.blk3(self.blk2(self.blk1(self.init_conv_bn(x)))))\n",
    "        h = self.linear(h) * self.weight\n",
    "        ce = tf.nn.sparse_softmax_cross_entropy_with_logits(logits=h, labels=y)\n",
    "        loss = tf.reduce_sum(ce)\n",
    "        correct = tf.reduce_sum(tf.cast(tf.math.equal(tf.argmax(h, axis=1), y), tf.float32))\n",
    "        \n",
    "        return loss, correct"
   ]
  },
  {
   "cell_type": "code",
   "execution_count": 8,
   "metadata": {},
   "outputs": [
    {
     "name": "stdout",
     "output_type": "stream",
     "text": [
      "(50000, 32, 32, 3)\n",
      "(50000, 40, 40, 3)\n"
     ]
    }
   ],
   "source": [
    "(x_train, y_train), (x_test, y_test) = tf.keras.datasets.cifar10.load_data()\n",
    "len_train, len_test = len(x_train), len(x_test)\n",
    "y_train = y_train.astype('int64').reshape(len_train)\n",
    "y_test = y_test.astype('int64').reshape(len_test)\n",
    "\n",
    "train_mean = np.mean(x_train, axis=(0, 1, 2))\n",
    "train_std = np.std(x_train, axis=(0, 1, 2))\n",
    "\n",
    "normalize = lambda x : ((x - train_mean) / train_std).astype('float32')\n",
    "pad4 = lambda x: np.pad(x, [(0, 0), (4, 4), (4, 4), (0, 0)],\n",
    "                        mode='reflect')\n",
    "print(x_train.shape)\n",
    "x_train = normalize(pad4(x_train))\n",
    "x_test = normalize(x_test)\n",
    "print(x_train.shape)"
   ]
  },
  {
   "cell_type": "code",
   "execution_count": 9,
   "metadata": {},
   "outputs": [],
   "source": [
    "model = DavidNet()"
   ]
  },
  {
   "cell_type": "code",
   "execution_count": 10,
   "metadata": {},
   "outputs": [],
   "source": [
    "batches_per_epoch = len_train//BATCH_SIZE + 1\n",
    "lr_schedule = lambda t : np.interp([t], [0, (EPOCHS + 1)//5, EPOCHS], [0, LEARNING_RATE, 0])[0]\n",
    "global_step = tf.train.get_or_create_global_step()\n",
    "lr_func = lambda : lr_schedule(global_step/batches_per_epoch)/ BATCH_SIZE\n",
    "opt = tf.train.MomentumOptimizer(lr_func, momentum=MOMENTUM, use_nesterov=True)\n",
    "data_aug = lambda x, y : (tf.image.random_flip_left_right(tf.random_crop(x, [32, 32, 3])), y)"
   ]
  },
  {
   "cell_type": "code",
   "execution_count": 11,
   "metadata": {},
   "outputs": [
    {
     "name": "stderr",
     "output_type": "stream",
     "text": [
      "W1219 05:29:22.983031 139705006970688 module_wrapper.py:139] From /home/gauravp/anaconda3/envs/eip4/lib/python3.6/site-packages/tensorflow_core/python/autograph/converters/directives.py:119: The name tf.random_crop is deprecated. Please use tf.image.random_crop instead.\n",
      "\n"
     ]
    },
    {
     "data": {
      "application/vnd.jupyter.widget-view+json": {
       "model_id": "8fda990e9e79413b86a14231114d4a09",
       "version_major": 2,
       "version_minor": 0
      },
      "text/plain": [
       "HBox(children=(FloatProgress(value=1.0, bar_style='info', max=1.0), HTML(value='')))"
      ]
     },
     "metadata": {},
     "output_type": "display_data"
    },
    {
     "name": "stdout",
     "output_type": "stream",
     "text": [
      "\n",
      "epoch:  1 lr:  0.08 train_loss:  1.8289673193359375 train_acc:  0.32926 test_loss:  1.6231308197021483 test_acc:  0.4173\n"
     ]
    },
    {
     "data": {
      "application/vnd.jupyter.widget-view+json": {
       "model_id": "f74918e3285c4fc180260c6ca600ea6c",
       "version_major": 2,
       "version_minor": 0
      },
      "text/plain": [
       "HBox(children=(FloatProgress(value=1.0, bar_style='info', max=1.0), HTML(value='')))"
      ]
     },
     "metadata": {},
     "output_type": "display_data"
    },
    {
     "name": "stdout",
     "output_type": "stream",
     "text": [
      "\n",
      "epoch:  2 lr:  0.16 train_loss:  1.1198017279052734 train_acc:  0.59648 test_loss:  1.0625398498535157 test_acc:  0.6186\n"
     ]
    },
    {
     "data": {
      "application/vnd.jupyter.widget-view+json": {
       "model_id": "751f4c87d3324d8080c43dadb54c02fc",
       "version_major": 2,
       "version_minor": 0
      },
      "text/plain": [
       "HBox(children=(FloatProgress(value=1.0, bar_style='info', max=1.0), HTML(value='')))"
      ]
     },
     "metadata": {},
     "output_type": "display_data"
    },
    {
     "name": "stdout",
     "output_type": "stream",
     "text": [
      "\n",
      "epoch:  3 lr:  0.24 train_loss:  0.8053392712402344 train_acc:  0.71628 test_loss:  1.5090457336425782 test_acc:  0.5677\n"
     ]
    },
    {
     "data": {
      "application/vnd.jupyter.widget-view+json": {
       "model_id": "72667efe2ca84b68b55afdca7610d54c",
       "version_major": 2,
       "version_minor": 0
      },
      "text/plain": [
       "HBox(children=(FloatProgress(value=1.0, bar_style='info', max=1.0), HTML(value='')))"
      ]
     },
     "metadata": {},
     "output_type": "display_data"
    },
    {
     "name": "stdout",
     "output_type": "stream",
     "text": [
      "\n",
      "epoch:  4 lr:  0.32 train_loss:  0.643346462097168 train_acc:  0.7759 test_loss:  1.6825183166503905 test_acc:  0.5365\n"
     ]
    },
    {
     "data": {
      "application/vnd.jupyter.widget-view+json": {
       "model_id": "ce9b9484926649698b5048d17003ba84",
       "version_major": 2,
       "version_minor": 0
      },
      "text/plain": [
       "HBox(children=(FloatProgress(value=1.0, bar_style='info', max=1.0), HTML(value='')))"
      ]
     },
     "metadata": {},
     "output_type": "display_data"
    },
    {
     "name": "stdout",
     "output_type": "stream",
     "text": [
      "\n",
      "epoch:  5 lr:  0.4 train_loss:  0.5548943740844726 train_acc:  0.80814 test_loss:  0.6880031539916992 test_acc:  0.7785\n"
     ]
    },
    {
     "data": {
      "application/vnd.jupyter.widget-view+json": {
       "model_id": "4135be57893b4a5cb56c13ddc916095a",
       "version_major": 2,
       "version_minor": 0
      },
      "text/plain": [
       "HBox(children=(FloatProgress(value=1.0, bar_style='info', max=1.0), HTML(value='')))"
      ]
     },
     "metadata": {},
     "output_type": "display_data"
    },
    {
     "name": "stdout",
     "output_type": "stream",
     "text": [
      "\n",
      "epoch:  6 lr:  0.37894736842105264 train_loss:  0.48420679779052733 train_acc:  0.83132 test_loss:  0.6044529357910157 test_acc:  0.8013\n"
     ]
    },
    {
     "data": {
      "application/vnd.jupyter.widget-view+json": {
       "model_id": "e446f87f6ee34ee1a96ccc677d6a6c24",
       "version_major": 2,
       "version_minor": 0
      },
      "text/plain": [
       "HBox(children=(FloatProgress(value=1.0, bar_style='info', max=1.0), HTML(value='')))"
      ]
     },
     "metadata": {},
     "output_type": "display_data"
    },
    {
     "name": "stdout",
     "output_type": "stream",
     "text": [
      "\n",
      "epoch:  7 lr:  0.35789473684210527 train_loss:  0.41908712829589845 train_acc:  0.85548 test_loss:  0.8229438095092774 test_acc:  0.7493\n"
     ]
    },
    {
     "data": {
      "application/vnd.jupyter.widget-view+json": {
       "model_id": "e82ab8d727df40458951ff529b341adc",
       "version_major": 2,
       "version_minor": 0
      },
      "text/plain": [
       "HBox(children=(FloatProgress(value=1.0, bar_style='info', max=1.0), HTML(value='')))"
      ]
     },
     "metadata": {},
     "output_type": "display_data"
    },
    {
     "name": "stdout",
     "output_type": "stream",
     "text": [
      "\n",
      "epoch:  8 lr:  0.33684210526315794 train_loss:  0.36626926025390627 train_acc:  0.87342 test_loss:  0.524585270690918 test_acc:  0.8323\n"
     ]
    },
    {
     "data": {
      "application/vnd.jupyter.widget-view+json": {
       "model_id": "642e20d144ab4bbb90eef78bda3a21d7",
       "version_major": 2,
       "version_minor": 0
      },
      "text/plain": [
       "HBox(children=(FloatProgress(value=1.0, bar_style='info', max=1.0), HTML(value='')))"
      ]
     },
     "metadata": {},
     "output_type": "display_data"
    },
    {
     "name": "stdout",
     "output_type": "stream",
     "text": [
      "\n",
      "epoch:  9 lr:  0.31578947368421056 train_loss:  0.33487300689697264 train_acc:  0.88426 test_loss:  0.4781340881347656 test_acc:  0.8467\n"
     ]
    },
    {
     "data": {
      "application/vnd.jupyter.widget-view+json": {
       "model_id": "ee9f4915cea24466a9c6f00eac0fb0ec",
       "version_major": 2,
       "version_minor": 0
      },
      "text/plain": [
       "HBox(children=(FloatProgress(value=1.0, bar_style='info', max=1.0), HTML(value='')))"
      ]
     },
     "metadata": {},
     "output_type": "display_data"
    },
    {
     "name": "stdout",
     "output_type": "stream",
     "text": [
      "\n",
      "epoch:  10 lr:  0.2947368421052632 train_loss:  0.29702436935424803 train_acc:  0.8982 test_loss:  0.4155321350097656 test_acc:  0.8636\n"
     ]
    },
    {
     "data": {
      "application/vnd.jupyter.widget-view+json": {
       "model_id": "16e4ce927d2e4583a7c109e9f8f4fa00",
       "version_major": 2,
       "version_minor": 0
      },
      "text/plain": [
       "HBox(children=(FloatProgress(value=1.0, bar_style='info', max=1.0), HTML(value='')))"
      ]
     },
     "metadata": {},
     "output_type": "display_data"
    },
    {
     "name": "stdout",
     "output_type": "stream",
     "text": [
      "\n",
      "epoch:  11 lr:  0.2736842105263158 train_loss:  0.2748430215454102 train_acc:  0.90502 test_loss:  0.5174979858398437 test_acc:  0.8348\n"
     ]
    },
    {
     "data": {
      "application/vnd.jupyter.widget-view+json": {
       "model_id": "39d1e37adff84c85b6246e91a93656ee",
       "version_major": 2,
       "version_minor": 0
      },
      "text/plain": [
       "HBox(children=(FloatProgress(value=1.0, bar_style='info', max=1.0), HTML(value='')))"
      ]
     },
     "metadata": {},
     "output_type": "display_data"
    },
    {
     "name": "stdout",
     "output_type": "stream",
     "text": [
      "\n",
      "epoch:  12 lr:  0.25263157894736843 train_loss:  0.2459860530090332 train_acc:  0.91568 test_loss:  0.3896016410827637 test_acc:  0.8727\n"
     ]
    },
    {
     "data": {
      "application/vnd.jupyter.widget-view+json": {
       "model_id": "f5509be694af4bcba9ea56d25e7e4c48",
       "version_major": 2,
       "version_minor": 0
      },
      "text/plain": [
       "HBox(children=(FloatProgress(value=1.0, bar_style='info', max=1.0), HTML(value='')))"
      ]
     },
     "metadata": {},
     "output_type": "display_data"
    },
    {
     "name": "stdout",
     "output_type": "stream",
     "text": [
      "\n",
      "epoch:  13 lr:  0.23157894736842108 train_loss:  0.22293497985839844 train_acc:  0.92188 test_loss:  0.4208643295288086 test_acc:  0.8631\n"
     ]
    },
    {
     "data": {
      "application/vnd.jupyter.widget-view+json": {
       "model_id": "27565e18999d440f9c16f10ad4d886ed",
       "version_major": 2,
       "version_minor": 0
      },
      "text/plain": [
       "HBox(children=(FloatProgress(value=1.0, bar_style='info', max=1.0), HTML(value='')))"
      ]
     },
     "metadata": {},
     "output_type": "display_data"
    },
    {
     "name": "stdout",
     "output_type": "stream",
     "text": [
      "\n",
      "epoch:  14 lr:  0.2105263157894737 train_loss:  0.20312972930908202 train_acc:  0.92944 test_loss:  0.4416583953857422 test_acc:  0.8654\n"
     ]
    },
    {
     "data": {
      "application/vnd.jupyter.widget-view+json": {
       "model_id": "4dd72a60cb4e4592b6d8a29a67916f20",
       "version_major": 2,
       "version_minor": 0
      },
      "text/plain": [
       "HBox(children=(FloatProgress(value=1.0, bar_style='info', max=1.0), HTML(value='')))"
      ]
     },
     "metadata": {},
     "output_type": "display_data"
    },
    {
     "name": "stdout",
     "output_type": "stream",
     "text": [
      "\n",
      "epoch:  15 lr:  0.18947368421052635 train_loss:  0.1823797004699707 train_acc:  0.93674 test_loss:  0.5224834365844726 test_acc:  0.8517\n"
     ]
    },
    {
     "data": {
      "application/vnd.jupyter.widget-view+json": {
       "model_id": "9da98a5897b14cc38444d9868f69564b",
       "version_major": 2,
       "version_minor": 0
      },
      "text/plain": [
       "HBox(children=(FloatProgress(value=1.0, bar_style='info', max=1.0), HTML(value='')))"
      ]
     },
     "metadata": {},
     "output_type": "display_data"
    },
    {
     "name": "stdout",
     "output_type": "stream",
     "text": [
      "\n",
      "epoch:  16 lr:  0.16842105263157897 train_loss:  0.16210940963745119 train_acc:  0.94332 test_loss:  0.33241577377319337 test_acc:  0.8923\n"
     ]
    },
    {
     "data": {
      "application/vnd.jupyter.widget-view+json": {
       "model_id": "094e4d4d043f4394bd249aaaaea68d30",
       "version_major": 2,
       "version_minor": 0
      },
      "text/plain": [
       "HBox(children=(FloatProgress(value=1.0, bar_style='info', max=1.0), HTML(value='')))"
      ]
     },
     "metadata": {},
     "output_type": "display_data"
    },
    {
     "name": "stdout",
     "output_type": "stream",
     "text": [
      "\n",
      "epoch:  17 lr:  0.1473684210526316 train_loss:  0.1479202377319336 train_acc:  0.9489 test_loss:  0.35800165252685545 test_acc:  0.8898\n"
     ]
    },
    {
     "data": {
      "application/vnd.jupyter.widget-view+json": {
       "model_id": "cf00d02c2ea54a3c8e16377b80f36fb3",
       "version_major": 2,
       "version_minor": 0
      },
      "text/plain": [
       "HBox(children=(FloatProgress(value=1.0, bar_style='info', max=1.0), HTML(value='')))"
      ]
     },
     "metadata": {},
     "output_type": "display_data"
    },
    {
     "name": "stdout",
     "output_type": "stream",
     "text": [
      "\n",
      "epoch:  18 lr:  0.12631578947368421 train_loss:  0.12889591247558593 train_acc:  0.95652 test_loss:  0.4357103317260742 test_acc:  0.868\n"
     ]
    },
    {
     "data": {
      "application/vnd.jupyter.widget-view+json": {
       "model_id": "4816f1a52e6f4350a71f56f354fc9a44",
       "version_major": 2,
       "version_minor": 0
      },
      "text/plain": [
       "HBox(children=(FloatProgress(value=1.0, bar_style='info', max=1.0), HTML(value='')))"
      ]
     },
     "metadata": {},
     "output_type": "display_data"
    },
    {
     "name": "stdout",
     "output_type": "stream",
     "text": [
      "\n",
      "epoch:  19 lr:  0.10526315789473689 train_loss:  0.11636688232421875 train_acc:  0.95956 test_loss:  0.36166288681030273 test_acc:  0.8909\n"
     ]
    },
    {
     "data": {
      "application/vnd.jupyter.widget-view+json": {
       "model_id": "25dc87425b2242bebad4d84c04d5d2e9",
       "version_major": 2,
       "version_minor": 0
      },
      "text/plain": [
       "HBox(children=(FloatProgress(value=1.0, bar_style='info', max=1.0), HTML(value='')))"
      ]
     },
     "metadata": {},
     "output_type": "display_data"
    },
    {
     "name": "stdout",
     "output_type": "stream",
     "text": [
      "\n",
      "epoch:  20 lr:  0.08421052631578951 train_loss:  0.10240814102172852 train_acc:  0.96534 test_loss:  0.29917692413330077 test_acc:  0.9085\n"
     ]
    },
    {
     "data": {
      "application/vnd.jupyter.widget-view+json": {
       "model_id": "fd5546aa6fd4418e8825df82b034c7fd",
       "version_major": 2,
       "version_minor": 0
      },
      "text/plain": [
       "HBox(children=(FloatProgress(value=1.0, bar_style='info', max=1.0), HTML(value='')))"
      ]
     },
     "metadata": {},
     "output_type": "display_data"
    },
    {
     "name": "stdout",
     "output_type": "stream",
     "text": [
      "\n",
      "epoch:  21 lr:  0.06315789473684214 train_loss:  0.09061344188690186 train_acc:  0.96968 test_loss:  0.29494773941040037 test_acc:  0.914\n"
     ]
    },
    {
     "data": {
      "application/vnd.jupyter.widget-view+json": {
       "model_id": "1a339e2cecbe4f128fad0f56aa8529c9",
       "version_major": 2,
       "version_minor": 0
      },
      "text/plain": [
       "HBox(children=(FloatProgress(value=1.0, bar_style='info', max=1.0), HTML(value='')))"
      ]
     },
     "metadata": {},
     "output_type": "display_data"
    },
    {
     "name": "stdout",
     "output_type": "stream",
     "text": [
      "\n",
      "epoch:  22 lr:  0.04210526315789476 train_loss:  0.07740202465057373 train_acc:  0.9751 test_loss:  0.2761667045593262 test_acc:  0.9161\n"
     ]
    },
    {
     "data": {
      "application/vnd.jupyter.widget-view+json": {
       "model_id": "8a548b1c222045ddbcdf0749df7fd38a",
       "version_major": 2,
       "version_minor": 0
      },
      "text/plain": [
       "HBox(children=(FloatProgress(value=1.0, bar_style='info', max=1.0), HTML(value='')))"
      ]
     },
     "metadata": {},
     "output_type": "display_data"
    },
    {
     "name": "stdout",
     "output_type": "stream",
     "text": [
      "\n",
      "epoch:  23 lr:  0.02105263157894738 train_loss:  0.06746797229766846 train_acc:  0.97942 test_loss:  0.27044158821105957 test_acc:  0.9197\n"
     ]
    },
    {
     "data": {
      "application/vnd.jupyter.widget-view+json": {
       "model_id": "5bf59bcaabe64f618074dbe8e16a5ba5",
       "version_major": 2,
       "version_minor": 0
      },
      "text/plain": [
       "HBox(children=(FloatProgress(value=1.0, bar_style='info', max=1.0), HTML(value='')))"
      ]
     },
     "metadata": {},
     "output_type": "display_data"
    },
    {
     "name": "stdout",
     "output_type": "stream",
     "text": [
      "\n",
      "epoch:  24 lr:  0.0 train_loss:  0.0627386039352417 train_acc:  0.98054 test_loss:  0.2598004585266113 test_acc:  0.9202\n"
     ]
    }
   ],
   "source": [
    "test_set = tf.data.Dataset.from_tensor_slices((x_test, y_test)).batch(BATCH_SIZE)\n",
    "\n",
    "for epoch in range(EPOCHS):\n",
    "    train_loss = test_loss = train_acc = test_acc = 0.0\n",
    "    train_set = tf.data.Dataset.from_tensor_slices((x_train, y_train)).map(data_aug).shuffle(len_train).batch(BATCH_SIZE).prefetch(1)\n",
    "    \n",
    "    tf.keras.backend.set_learning_phase(1)\n",
    "    for (x, y) in tqdm(train_set):\n",
    "        with tf.GradientTape() as tape:\n",
    "            loss, correct = model(x, y)\n",
    "            \n",
    "        var = model.trainable_variables\n",
    "        grads = tape.gradient(loss, var)\n",
    "        for g, v in zip(grads, var):\n",
    "            g += v * WEIGHT_DECAY * BATCH_SIZE\n",
    "        opt.apply_gradients(zip(grads, var), global_step=global_step)\n",
    "        train_loss += loss.numpy()\n",
    "        train_acc += correct.numpy()\n",
    "        \n",
    "    tf.keras.backend.set_learning_phase(0)\n",
    "    for (x, y) in test_set:\n",
    "        loss, correct = model(x, y)\n",
    "        test_loss += loss.numpy()\n",
    "        test_acc += correct.numpy()\n",
    "        \n",
    "    print('epoch: ', epoch + 1, 'lr: ', lr_schedule(epoch + 1),\n",
    "          'train_loss: ', train_loss/len_train,\n",
    "          'train_acc: ', train_acc/len_train,\n",
    "          'test_loss: ', test_loss/len_test,\n",
    "          'test_acc: ', test_acc/len_test)"
   ]
  },
  {
   "cell_type": "code",
   "execution_count": null,
   "metadata": {},
   "outputs": [],
   "source": []
  }
 ],
 "metadata": {
  "kernelspec": {
   "display_name": "Python 3",
   "language": "python",
   "name": "python3"
  },
  "language_info": {
   "codemirror_mode": {
    "name": "ipython",
    "version": 3
   },
   "file_extension": ".py",
   "mimetype": "text/x-python",
   "name": "python",
   "nbconvert_exporter": "python",
   "pygments_lexer": "ipython3",
   "version": "3.6.8"
  }
 },
 "nbformat": 4,
 "nbformat_minor": 2
}
